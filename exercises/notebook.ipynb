{
 "cells": [
  {
   "cell_type": "markdown",
   "metadata": {},
   "source": [
    "# Week 11 Lab Exercises"
   ]
  },
  {
   "cell_type": "markdown",
   "metadata": {},
   "source": [
    "## Exercise 1: UnsortedTableMap\n",
    "\n",
    "Add a main method to the UnsortedTableMap class from Lesson10Examples.\n",
    "\n",
    "Create an unsorted map of integers. Populate the map with several\n",
    "entries and perform some lookups as well as *put* and *remove*\n",
    "operations. Display the results."
   ]
  },
  {
   "cell_type": "code",
   "execution_count": 18,
   "metadata": {},
   "outputs": [
    {
     "name": "stdout",
     "output_type": "stream",
     "text": [
      "Initial map entries:\n",
      "Key: 1, Value: One\n",
      "Key: 2, Value: Two\n",
      "Key: 3, Value: Three\n",
      "Key: 4, Value: Four\n",
      "\n",
      "Performing lookups:\n",
      "Lookup key 2: Two\n",
      "Lookup key 4: Four\n",
      "\n",
      "Updating value for key 3.\n",
      "Key 3 after update: Three Updated\n",
      "\n",
      "Removing key 2.\n",
      "\n",
      "Map entries after updates:\n",
      "Key: 1, Value: One\n",
      "Key: 3, Value: Three Updated\n",
      "Key: 4, Value: Four\n"
     ]
    }
   ],
   "source": [
    "from unsorted_table_map import UnsortedTableMap\n",
    "\n",
    "\n",
    "# Create an instance of UnsortedTableMap\n",
    "unsorted_map = UnsortedTableMap()\n",
    "\n",
    "# Populate the map with some entries\n",
    "unsorted_map[1] = \"One\"\n",
    "unsorted_map[2] = \"Two\"\n",
    "unsorted_map[3] = \"Three\"\n",
    "unsorted_map[4] = \"Four\"\n",
    "\n",
    "# Display the map entries\n",
    "print(\"Initial map entries:\")\n",
    "for key in unsorted_map:\n",
    "    print(f\"Key: {key}, Value: {unsorted_map[key]}\")\n",
    "\n",
    "# Perform some lookups\n",
    "print(\"\\nPerforming lookups:\")\n",
    "print(f\"Lookup key 2: {unsorted_map[2]}\")\n",
    "print(f\"Lookup key 4: {unsorted_map[4]}\")\n",
    "\n",
    "# Perform a put operation (update value for key 3)\n",
    "print(\"\\nUpdating value for key 3.\")\n",
    "unsorted_map[3] = \"Three Updated\"\n",
    "print(f\"Key 3 after update: {unsorted_map[3]}\")\n",
    "\n",
    "# Perform a remove operation\n",
    "print(\"\\nRemoving key 2.\")\n",
    "del unsorted_map[2]\n",
    "\n",
    "# Display the map entries after updates\n",
    "print(\"\\nMap entries after updates:\")\n",
    "for key in unsorted_map:\n",
    "    print(f\"Key: {key}, Value: {unsorted_map[key]}\")"
   ]
  },
  {
   "cell_type": "markdown",
   "metadata": {},
   "source": [
    "## Exercise 2: SortedTableMap\n",
    "\n",
    "Add a main method to the SortedTableMap class from Lesson10Examples.\n",
    "\n",
    "Create a sorted map of Strings. Populate the map with several entries\n",
    "and perform some lookups as well as *put* and *remove* operations.\n",
    "Display the results."
   ]
  },
  {
   "cell_type": "code",
   "execution_count": 19,
   "metadata": {},
   "outputs": [
    {
     "name": "stdout",
     "output_type": "stream",
     "text": [
      "Initial map entries (sorted):\n",
      "Key: apple, Value: A fruit\n",
      "Key: banana, Value: Another fruit\n",
      "Key: carrot, Value: A vegetable\n",
      "Key: date, Value: A sweet fruit\n",
      "Key: eggplant, Value: A purple vegetable\n",
      "\n",
      "Performing lookups:\n",
      "Lookup key 'banana': Another fruit\n",
      "Lookup key 'eggplant': A purple vegetable\n",
      "\n",
      "Updating value for key 'carrot'.\n",
      "Key 'carrot' after update: An orange vegetable\n",
      "\n",
      "Removing key 'banana'.\n",
      "\n",
      "Map entries after updates (sorted):\n",
      "Key: apple, Value: A fruit\n",
      "Key: carrot, Value: An orange vegetable\n",
      "Key: date, Value: A sweet fruit\n",
      "Key: eggplant, Value: A purple vegetable\n"
     ]
    }
   ],
   "source": [
    "from sorted_table_map import SortedTableMap\n",
    "\n",
    "\n",
    "# Create an instance of SortedTableMap\n",
    "sorted_map = SortedTableMap()\n",
    "\n",
    "# Populate the map with some entries\n",
    "sorted_map[\"apple\"] = \"A fruit\"\n",
    "sorted_map[\"banana\"] = \"Another fruit\"\n",
    "sorted_map[\"carrot\"] = \"A vegetable\"\n",
    "sorted_map[\"date\"] = \"A sweet fruit\"\n",
    "sorted_map[\"eggplant\"] = \"A purple vegetable\"\n",
    "\n",
    "# Display the map entries\n",
    "print(\"Initial map entries (sorted):\")\n",
    "for key in sorted_map:\n",
    "    print(f\"Key: {key}, Value: {sorted_map[key]}\")\n",
    "\n",
    "# Perform some lookups\n",
    "print(\"\\nPerforming lookups:\")\n",
    "print(f\"Lookup key 'banana': {sorted_map['banana']}\")\n",
    "print(f\"Lookup key 'eggplant': {sorted_map['eggplant']}\")\n",
    "\n",
    "# Perform a put operation (update value for key 'carrot')\n",
    "print(\"\\nUpdating value for key 'carrot'.\")\n",
    "sorted_map[\"carrot\"] = \"An orange vegetable\"\n",
    "print(f\"Key 'carrot' after update: {sorted_map['carrot']}\")\n",
    "\n",
    "# Perform a remove operation\n",
    "print(\"\\nRemoving key 'banana'.\")\n",
    "del sorted_map[\"banana\"]\n",
    "\n",
    "# Display the map entries after updates\n",
    "print(\"\\nMap entries after updates (sorted):\")\n",
    "for key in sorted_map:\n",
    "    print(f\"Key: {key}, Value: {sorted_map[key]}\")"
   ]
  },
  {
   "cell_type": "markdown",
   "metadata": {},
   "source": [
    "## Exercise 3: Hash Functions\n",
    "\n",
    "In this exercise you will create a simple hash function. The first step\n",
    "is creating *h1* method that returns the hash code of an object key\n",
    "(**public** **static** **int** h1(Object key)). The second step is\n",
    "creating a *h2* method that returns the hash value (**public**\n",
    "**static** **int** h2(**int** hashCode, **int** N).\n",
    "\n",
    "Create a class Student that declares the instance variables\n",
    "*studentNumber* and *studentName*, both of *String* type. Provide the\n",
    "necessary constructors and getters/setters.\n",
    "\n",
    "In method *h1*, use the *hashCode (Object o)* from Java to return the\n",
    "hash code of an object. In method *h2*, use the division technique to\n",
    "obtain the hash value ( = hashCode % N) .\n",
    "\n",
    "Write a main method to test your solution. Create a Student object. Use\n",
    "h1 method to compute the hashcode for the student object, the h2 method\n",
    "to compute the hash value. Choose N to be a prime number (try 109, etc)."
   ]
  },
  {
   "cell_type": "code",
   "execution_count": 20,
   "metadata": {},
   "outputs": [
    {
     "name": "stdout",
     "output_type": "stream",
     "text": [
      "Hash Code (h1) for student number: -2907350809819243525\n",
      "Hash Value (h2) for student number with N=109: 106\n"
     ]
    }
   ],
   "source": [
    "class HashFunction:\n",
    "    def __init__(self, N: int):\n",
    "        self.N = N\n",
    "\n",
    "    def h1(self, key: object) -> int:\n",
    "        # Calculate the hash code using Python's built-in hash function\n",
    "        return hash(key)\n",
    "\n",
    "    def h2(self, hash_code: int) -> int:\n",
    "        # Calculate the hash value using the division method\n",
    "        return hash_code % self.N\n",
    "\n",
    "\n",
    "class Student:\n",
    "    def __init__(self, studentNumber: str, studentName: str):\n",
    "        self.studentNumber = studentNumber\n",
    "        self.studentName = studentName\n",
    "\n",
    "    def get_student_number(self) -> str:\n",
    "        return self.studentNumber\n",
    "\n",
    "    def get_student_name(self) -> str:\n",
    "        return self.studentName\n",
    "\n",
    "    def set_student_number(self, studentNumber: str):\n",
    "        self.studentNumber = studentNumber\n",
    "\n",
    "    def set_student_name(self, studentName: str):\n",
    "        self.studentName = studentName\n",
    "\n",
    "\n",
    "# Create a Student object\n",
    "student = Student(\"123456\", \"John Doe\")\n",
    "\n",
    "# Create a HashFunction object with a prime number N\n",
    "N = 109\n",
    "hash_function = HashFunction(N)\n",
    "\n",
    "# Compute the hash code using h1 method\n",
    "hash_code = hash_function.h1(student.get_student_number())\n",
    "print(f\"Hash Code (h1) for student number: {hash_code}\")\n",
    "\n",
    "# Compute the hash value using h2 method\n",
    "hash_value = hash_function.h2(hash_code)\n",
    "print(f\"Hash Value (h2) for student number with N={N}: {hash_value}\")"
   ]
  },
  {
   "cell_type": "markdown",
   "metadata": {},
   "source": [
    "## Exercise 4: Separate Chaining\n",
    "\n",
    "Draw the 9-entry hash table that results from using the hash function,\n",
    "h(i) = (2i + 5) mod 9, to hash the keys 13, 12, 44, 88, 23, 94, 11, 39,\n",
    "20, assuming collisions are handled by separate chaining technique."
   ]
  },
  {
   "cell_type": "code",
   "execution_count": 21,
   "metadata": {},
   "outputs": [
    {
     "name": "stdout",
     "output_type": "stream",
     "text": [
      "Index 0: [11, 20]\n",
      "Index 1: [88]\n",
      "Index 2: [12, 39]\n",
      "Index 3: [44]\n",
      "Index 4: [13, 94]\n",
      "Index 5: []\n",
      "Index 6: [23]\n",
      "Index 7: []\n",
      "Index 8: []\n"
     ]
    }
   ],
   "source": [
    "class ChainHashMap:\n",
    "    def __init__(self, size=9):\n",
    "        self.size = size\n",
    "        self.table = [[] for _ in range(size)]\n",
    "\n",
    "    def hash_function(self, i):\n",
    "        return (2 * i + 5) % self.size\n",
    "\n",
    "    def insert(self, key):\n",
    "        index = self.hash_function(key)\n",
    "        self.table[index].append(key)\n",
    "\n",
    "    def print_table(self):\n",
    "        for i, bucket in enumerate(self.table):\n",
    "            print(f\"Index {i}: {bucket}\")\n",
    "\n",
    "\n",
    "keys = [13, 12, 44, 88, 23, 94, 11, 39, 20]\n",
    "hash_map = ChainHashMap()\n",
    "for key in keys:\n",
    "    hash_map.insert(key)\n",
    "hash_map.print_table()"
   ]
  },
  {
   "cell_type": "markdown",
   "metadata": {},
   "source": [
    "## Exercise 5: Linear Probing\n",
    "\n",
    "For the table in Exercise 4, repeat the same assuming that collisions\n",
    "are handled using linear probing."
   ]
  },
  {
   "cell_type": "code",
   "execution_count": 22,
   "metadata": {},
   "outputs": [
    {
     "name": "stdout",
     "output_type": "stream",
     "text": [
      "Index 0: 11\n",
      "Index 1: 88\n",
      "Index 2: 12\n",
      "Index 3: 44\n",
      "Index 4: 13\n",
      "Index 5: 94\n",
      "Index 6: 23\n",
      "Index 7: 39\n",
      "Index 8: 20\n"
     ]
    }
   ],
   "source": [
    "class ProbeHashMap:\n",
    "    def __init__(self, size=9):\n",
    "        self.size = size\n",
    "        self.table = [None] * size\n",
    "\n",
    "    def hash_function(self, i):\n",
    "        return (2 * i + 5) % self.size\n",
    "\n",
    "    def insert(self, key):\n",
    "        index = self.hash_function(key)\n",
    "        original_index = index\n",
    "        while self.table[index] is not None:\n",
    "            index = (index + 1) % self.size\n",
    "            if index == original_index:\n",
    "                raise Exception(\"Hash table is full\")\n",
    "        self.table[index] = key\n",
    "\n",
    "    def print_table(self):\n",
    "        for i, key in enumerate(self.table):\n",
    "            print(f\"Index {i}: {key}\")\n",
    "\n",
    "\n",
    "keys = [13, 12, 44, 88, 23, 94, 11, 39, 20]\n",
    "hash_map = ProbeHashMap()\n",
    "for key in keys:\n",
    "    hash_map.insert(key)\n",
    "hash_map.print_table()"
   ]
  },
  {
   "cell_type": "markdown",
   "metadata": {},
   "source": [
    "## Exercise 6: Sets\n",
    "\n",
    "java.util.HashSet provides an implementation of the (unordered) set ADT\n",
    "with a hash table.\n",
    "\n",
    "Write a main method that creates a set of objects and perform the basic\n",
    "set operations. Iterate over set elements and print their values.\n"
   ]
  },
  {
   "cell_type": "code",
   "execution_count": 23,
   "metadata": {},
   "outputs": [
    {
     "name": "stdout",
     "output_type": "stream",
     "text": [
      "Set after adding elements: {'banana', 'apple', 'cherry'}\n",
      "Banana is in the set\n",
      "Set after removing 'cherry': {'banana', 'apple'}\n",
      "Iterating over set elements:\n",
      "banana\n",
      "apple\n",
      "Set after clearing all elements: set()\n"
     ]
    }
   ],
   "source": [
    "# Create a set of objects\n",
    "my_set = set()\n",
    "\n",
    "# Add elements to the set\n",
    "my_set.add(\"apple\")\n",
    "my_set.add(\"banana\")\n",
    "my_set.add(\"cherry\")\n",
    "\n",
    "# Duplicates are ignored\n",
    "my_set.add(\"apple\")\n",
    "\n",
    "print(\"Set after adding elements:\", my_set)\n",
    "\n",
    "# Check if an element exists in the set\n",
    "if \"banana\" in my_set:\n",
    "    print(\"Banana is in the set\")\n",
    "\n",
    "# Remove an element from the set\n",
    "my_set.remove(\"cherry\")\n",
    "print(\"Set after removing 'cherry':\", my_set)\n",
    "\n",
    "# Attempt to remove an element that does not exist\n",
    "my_set.discard(\"mango\")\n",
    "\n",
    "# Iterate over set elements and print their values\n",
    "print(\"Iterating over set elements:\")\n",
    "for item in my_set:\n",
    "    print(item)\n",
    "\n",
    "# Clear the set\n",
    "my_set.clear()\n",
    "print(\"Set after clearing all elements:\", my_set)"
   ]
  }
 ],
 "metadata": {
  "kernelspec": {
   "display_name": "Python 3",
   "language": "python",
   "name": "python3"
  },
  "language_info": {
   "codemirror_mode": {
    "name": "ipython",
    "version": 3
   },
   "file_extension": ".py",
   "mimetype": "text/x-python",
   "name": "python",
   "nbconvert_exporter": "python",
   "pygments_lexer": "ipython3",
   "version": "3.12.1"
  }
 },
 "nbformat": 4,
 "nbformat_minor": 2
}
